{
 "cells": [
  {
   "cell_type": "markdown",
   "metadata": {},
   "source": [
    "# Load the dataset"
   ]
  },
  {
   "cell_type": "markdown",
   "metadata": {},
   "source": [
    "For reproducibility purposes, we start with the exact dataset that is published. In just a moment, we will clean up the unnecessary columns!"
   ]
  },
  {
   "cell_type": "code",
   "execution_count": 1,
   "metadata": {},
   "outputs": [],
   "source": [
    "import pandas as pd"
   ]
  },
  {
   "cell_type": "code",
   "execution_count": 2,
   "metadata": {},
   "outputs": [],
   "source": [
    "import os\n",
    "os.chdir ('/home/karthiksankar2/Documents/Evolution_CASP/Neural_Net_PartialData')"
   ]
  },
  {
   "cell_type": "code",
   "execution_count": 3,
   "metadata": {},
   "outputs": [],
   "source": [
    "dataset = pd.read_pickle ('Evolution_dataset_v1.pkl')"
   ]
  },
  {
   "cell_type": "code",
   "execution_count": 4,
   "metadata": {},
   "outputs": [
    {
     "data": {
      "text/html": [
       "<div>\n",
       "<style scoped>\n",
       "    .dataframe tbody tr th:only-of-type {\n",
       "        vertical-align: middle;\n",
       "    }\n",
       "\n",
       "    .dataframe tbody tr th {\n",
       "        vertical-align: top;\n",
       "    }\n",
       "\n",
       "    .dataframe thead th {\n",
       "        text-align: right;\n",
       "    }\n",
       "</style>\n",
       "<table border=\"1\" class=\"dataframe\">\n",
       "  <thead>\n",
       "    <tr style=\"text-align: right;\">\n",
       "      <th></th>\n",
       "      <th>RHEA ID 1</th>\n",
       "      <th>UNIPROT ID 1</th>\n",
       "      <th>REACTION SMILES 1</th>\n",
       "      <th>RHEA ID 2</th>\n",
       "      <th>UNIPROT ID 2</th>\n",
       "      <th>REACTION SMILES 2</th>\n",
       "      <th>Identity</th>\n",
       "      <th>Overall Similarity (Dice)</th>\n",
       "      <th>Reaction Similarity</th>\n",
       "      <th>Ignore (Wild Card)</th>\n",
       "      <th>Label</th>\n",
       "      <th>dataset</th>\n",
       "      <th>Uniprot ID 1-Sequence</th>\n",
       "      <th>Uniprot ID 2-Sequence</th>\n",
       "      <th>Uniprot ID 1- Sequence Length</th>\n",
       "      <th>Uniprot ID 2- Sequence Length</th>\n",
       "      <th>Keep (same reaction check)</th>\n",
       "      <th>Ignore</th>\n",
       "    </tr>\n",
       "  </thead>\n",
       "  <tbody>\n",
       "    <tr>\n",
       "      <th>0</th>\n",
       "      <td>43928</td>\n",
       "      <td>P24815</td>\n",
       "      <td>[H][C@@]12CC=C3CC(=O)CC[C@]3(C)[C@@]1([H])CC[C...</td>\n",
       "      <td>43932</td>\n",
       "      <td>P24815</td>\n",
       "      <td>NC(=O)C1=CC=C[N+]([C@@H]2O[C@H](COP(=O)([O-])O...</td>\n",
       "      <td>100.0</td>\n",
       "      <td>0.173770</td>\n",
       "      <td>0.057971</td>\n",
       "      <td>False</td>\n",
       "      <td>1</td>\n",
       "      <td>train</td>\n",
       "      <td>MAGWSCLVTGAGGFVGQRIIKMLVQEKELQEVRALDKVFRPETKEE...</td>\n",
       "      <td>MAGWSCLVTGAGGFVGQRIIKMLVQEKELQEVRALDKVFRPETKEE...</td>\n",
       "      <td>373</td>\n",
       "      <td>373</td>\n",
       "      <td>True</td>\n",
       "      <td>NaN</td>\n",
       "    </tr>\n",
       "    <tr>\n",
       "      <th>1</th>\n",
       "      <td>43924</td>\n",
       "      <td>P24815</td>\n",
       "      <td>NC(=O)C1=CN([C@@H]2O[C@H](COP(=O)([O-])OP(=O)(...</td>\n",
       "      <td>43928</td>\n",
       "      <td>P24815</td>\n",
       "      <td>[H][C@@]12CC=C3CC(=O)CC[C@]3(C)[C@@]1([H])CC[C...</td>\n",
       "      <td>100.0</td>\n",
       "      <td>0.238522</td>\n",
       "      <td>0.057971</td>\n",
       "      <td>False</td>\n",
       "      <td>1</td>\n",
       "      <td>train</td>\n",
       "      <td>MAGWSCLVTGAGGFVGQRIIKMLVQEKELQEVRALDKVFRPETKEE...</td>\n",
       "      <td>MAGWSCLVTGAGGFVGQRIIKMLVQEKELQEVRALDKVFRPETKEE...</td>\n",
       "      <td>373</td>\n",
       "      <td>373</td>\n",
       "      <td>True</td>\n",
       "      <td>NaN</td>\n",
       "    </tr>\n",
       "    <tr>\n",
       "      <th>2</th>\n",
       "      <td>43477</td>\n",
       "      <td>O70582</td>\n",
       "      <td>CCCCC/C=C\\C/C=C\\C/C=C\\CCCCC(=O)[O-].O=O&gt;&gt;CCCCC...</td>\n",
       "      <td>61880</td>\n",
       "      <td>O70582</td>\n",
       "      <td>COC(=O)CCC/C=C\\C/C=C\\C/C=C\\C/C=C\\CCCCCO.O=O&gt;&gt;C...</td>\n",
       "      <td>100.0</td>\n",
       "      <td>0.579323</td>\n",
       "      <td>1.000000</td>\n",
       "      <td>False</td>\n",
       "      <td>1</td>\n",
       "      <td>train</td>\n",
       "      <td>MATYKVKVATGTDFFSGTLDSISLTIVGTQGESHKQRLNHFGRDFA...</td>\n",
       "      <td>MATYKVKVATGTDFFSGTLDSISLTIVGTQGESHKQRLNHFGRDFA...</td>\n",
       "      <td>701</td>\n",
       "      <td>701</td>\n",
       "      <td>True</td>\n",
       "      <td>NaN</td>\n",
       "    </tr>\n",
       "    <tr>\n",
       "      <th>3</th>\n",
       "      <td>43477</td>\n",
       "      <td>O70582</td>\n",
       "      <td>CCCCC/C=C\\C/C=C\\C/C=C\\CCCCC(=O)[O-].O=O&gt;&gt;CCCCC...</td>\n",
       "      <td>61877</td>\n",
       "      <td>O70582</td>\n",
       "      <td>COC(=O)CCC/C=C\\C/C=C\\C/C=C\\C/C=C\\CCCCCO.O=O&gt;&gt;C...</td>\n",
       "      <td>100.0</td>\n",
       "      <td>0.579323</td>\n",
       "      <td>1.000000</td>\n",
       "      <td>False</td>\n",
       "      <td>1</td>\n",
       "      <td>train</td>\n",
       "      <td>MATYKVKVATGTDFFSGTLDSISLTIVGTQGESHKQRLNHFGRDFA...</td>\n",
       "      <td>MATYKVKVATGTDFFSGTLDSISLTIVGTQGESHKQRLNHFGRDFA...</td>\n",
       "      <td>701</td>\n",
       "      <td>701</td>\n",
       "      <td>True</td>\n",
       "      <td>NaN</td>\n",
       "    </tr>\n",
       "    <tr>\n",
       "      <th>4</th>\n",
       "      <td>43477</td>\n",
       "      <td>O70582</td>\n",
       "      <td>CCCCC/C=C\\C/C=C\\C/C=C\\CCCCC(=O)[O-].O=O&gt;&gt;CCCCC...</td>\n",
       "      <td>61873</td>\n",
       "      <td>O70582</td>\n",
       "      <td>CCCCC/C=C\\C/C=C\\CCCCCCCC(=O)OC.O=O&gt;&gt;CCCCC/C=C\\...</td>\n",
       "      <td>100.0</td>\n",
       "      <td>0.529544</td>\n",
       "      <td>0.727273</td>\n",
       "      <td>False</td>\n",
       "      <td>1</td>\n",
       "      <td>train</td>\n",
       "      <td>MATYKVKVATGTDFFSGTLDSISLTIVGTQGESHKQRLNHFGRDFA...</td>\n",
       "      <td>MATYKVKVATGTDFFSGTLDSISLTIVGTQGESHKQRLNHFGRDFA...</td>\n",
       "      <td>701</td>\n",
       "      <td>701</td>\n",
       "      <td>True</td>\n",
       "      <td>NaN</td>\n",
       "    </tr>\n",
       "  </tbody>\n",
       "</table>\n",
       "</div>"
      ],
      "text/plain": [
       "   RHEA ID 1 UNIPROT ID 1                                  REACTION SMILES 1  \\\n",
       "0      43928       P24815  [H][C@@]12CC=C3CC(=O)CC[C@]3(C)[C@@]1([H])CC[C...   \n",
       "1      43924       P24815  NC(=O)C1=CN([C@@H]2O[C@H](COP(=O)([O-])OP(=O)(...   \n",
       "2      43477       O70582  CCCCC/C=C\\C/C=C\\C/C=C\\CCCCC(=O)[O-].O=O>>CCCCC...   \n",
       "3      43477       O70582  CCCCC/C=C\\C/C=C\\C/C=C\\CCCCC(=O)[O-].O=O>>CCCCC...   \n",
       "4      43477       O70582  CCCCC/C=C\\C/C=C\\C/C=C\\CCCCC(=O)[O-].O=O>>CCCCC...   \n",
       "\n",
       "   RHEA ID 2 UNIPROT ID 2                                  REACTION SMILES 2  \\\n",
       "0      43932       P24815  NC(=O)C1=CC=C[N+]([C@@H]2O[C@H](COP(=O)([O-])O...   \n",
       "1      43928       P24815  [H][C@@]12CC=C3CC(=O)CC[C@]3(C)[C@@]1([H])CC[C...   \n",
       "2      61880       O70582  COC(=O)CCC/C=C\\C/C=C\\C/C=C\\C/C=C\\CCCCCO.O=O>>C...   \n",
       "3      61877       O70582  COC(=O)CCC/C=C\\C/C=C\\C/C=C\\C/C=C\\CCCCCO.O=O>>C...   \n",
       "4      61873       O70582  CCCCC/C=C\\C/C=C\\CCCCCCCC(=O)OC.O=O>>CCCCC/C=C\\...   \n",
       "\n",
       "   Identity  Overall Similarity (Dice)  Reaction Similarity  \\\n",
       "0     100.0                   0.173770             0.057971   \n",
       "1     100.0                   0.238522             0.057971   \n",
       "2     100.0                   0.579323             1.000000   \n",
       "3     100.0                   0.579323             1.000000   \n",
       "4     100.0                   0.529544             0.727273   \n",
       "\n",
       "  Ignore (Wild Card)  Label dataset  \\\n",
       "0              False      1   train   \n",
       "1              False      1   train   \n",
       "2              False      1   train   \n",
       "3              False      1   train   \n",
       "4              False      1   train   \n",
       "\n",
       "                               Uniprot ID 1-Sequence  \\\n",
       "0  MAGWSCLVTGAGGFVGQRIIKMLVQEKELQEVRALDKVFRPETKEE...   \n",
       "1  MAGWSCLVTGAGGFVGQRIIKMLVQEKELQEVRALDKVFRPETKEE...   \n",
       "2  MATYKVKVATGTDFFSGTLDSISLTIVGTQGESHKQRLNHFGRDFA...   \n",
       "3  MATYKVKVATGTDFFSGTLDSISLTIVGTQGESHKQRLNHFGRDFA...   \n",
       "4  MATYKVKVATGTDFFSGTLDSISLTIVGTQGESHKQRLNHFGRDFA...   \n",
       "\n",
       "                               Uniprot ID 2-Sequence  \\\n",
       "0  MAGWSCLVTGAGGFVGQRIIKMLVQEKELQEVRALDKVFRPETKEE...   \n",
       "1  MAGWSCLVTGAGGFVGQRIIKMLVQEKELQEVRALDKVFRPETKEE...   \n",
       "2  MATYKVKVATGTDFFSGTLDSISLTIVGTQGESHKQRLNHFGRDFA...   \n",
       "3  MATYKVKVATGTDFFSGTLDSISLTIVGTQGESHKQRLNHFGRDFA...   \n",
       "4  MATYKVKVATGTDFFSGTLDSISLTIVGTQGESHKQRLNHFGRDFA...   \n",
       "\n",
       "   Uniprot ID 1- Sequence Length  Uniprot ID 2- Sequence Length  \\\n",
       "0                            373                            373   \n",
       "1                            373                            373   \n",
       "2                            701                            701   \n",
       "3                            701                            701   \n",
       "4                            701                            701   \n",
       "\n",
       "  Keep (same reaction check) Ignore  \n",
       "0                       True    NaN  \n",
       "1                       True    NaN  \n",
       "2                       True    NaN  \n",
       "3                       True    NaN  \n",
       "4                       True    NaN  "
      ]
     },
     "execution_count": 4,
     "metadata": {},
     "output_type": "execute_result"
    }
   ],
   "source": [
    "dataset.head()"
   ]
  },
  {
   "cell_type": "markdown",
   "metadata": {},
   "source": [
    "# Remove unnecessary columns"
   ]
  },
  {
   "cell_type": "markdown",
   "metadata": {},
   "source": [
    "The columns 'Ignore (Wild Card)', 'dataset', 'Keep (same reaction check)', and 'Ignore' belong to intermediate processing steps. They will be removed!"
   ]
  },
  {
   "cell_type": "code",
   "execution_count": 7,
   "metadata": {},
   "outputs": [],
   "source": [
    "dataset.drop (columns= ['Ignore (Wild Card)', 'Keep (same reaction check)', 'dataset', 'Ignore'], inplace = True)"
   ]
  },
  {
   "cell_type": "code",
   "execution_count": 10,
   "metadata": {},
   "outputs": [
    {
     "data": {
      "text/html": [
       "<div>\n",
       "<style scoped>\n",
       "    .dataframe tbody tr th:only-of-type {\n",
       "        vertical-align: middle;\n",
       "    }\n",
       "\n",
       "    .dataframe tbody tr th {\n",
       "        vertical-align: top;\n",
       "    }\n",
       "\n",
       "    .dataframe thead th {\n",
       "        text-align: right;\n",
       "    }\n",
       "</style>\n",
       "<table border=\"1\" class=\"dataframe\">\n",
       "  <thead>\n",
       "    <tr style=\"text-align: right;\">\n",
       "      <th></th>\n",
       "      <th>RHEA ID 1</th>\n",
       "      <th>UNIPROT ID 1</th>\n",
       "      <th>REACTION SMILES 1</th>\n",
       "      <th>RHEA ID 2</th>\n",
       "      <th>UNIPROT ID 2</th>\n",
       "      <th>REACTION SMILES 2</th>\n",
       "      <th>Identity</th>\n",
       "      <th>Overall Similarity (Dice)</th>\n",
       "      <th>Reaction Similarity</th>\n",
       "      <th>Label</th>\n",
       "      <th>Uniprot ID 1-Sequence</th>\n",
       "      <th>Uniprot ID 2-Sequence</th>\n",
       "      <th>Uniprot ID 1- Sequence Length</th>\n",
       "      <th>Uniprot ID 2- Sequence Length</th>\n",
       "    </tr>\n",
       "  </thead>\n",
       "  <tbody>\n",
       "    <tr>\n",
       "      <th>0</th>\n",
       "      <td>43928</td>\n",
       "      <td>P24815</td>\n",
       "      <td>[H][C@@]12CC=C3CC(=O)CC[C@]3(C)[C@@]1([H])CC[C...</td>\n",
       "      <td>43932</td>\n",
       "      <td>P24815</td>\n",
       "      <td>NC(=O)C1=CC=C[N+]([C@@H]2O[C@H](COP(=O)([O-])O...</td>\n",
       "      <td>100.0</td>\n",
       "      <td>0.17377</td>\n",
       "      <td>0.057971</td>\n",
       "      <td>1</td>\n",
       "      <td>MAGWSCLVTGAGGFVGQRIIKMLVQEKELQEVRALDKVFRPETKEE...</td>\n",
       "      <td>MAGWSCLVTGAGGFVGQRIIKMLVQEKELQEVRALDKVFRPETKEE...</td>\n",
       "      <td>373</td>\n",
       "      <td>373</td>\n",
       "    </tr>\n",
       "  </tbody>\n",
       "</table>\n",
       "</div>"
      ],
      "text/plain": [
       "   RHEA ID 1 UNIPROT ID 1                                  REACTION SMILES 1  \\\n",
       "0      43928       P24815  [H][C@@]12CC=C3CC(=O)CC[C@]3(C)[C@@]1([H])CC[C...   \n",
       "\n",
       "   RHEA ID 2 UNIPROT ID 2                                  REACTION SMILES 2  \\\n",
       "0      43932       P24815  NC(=O)C1=CC=C[N+]([C@@H]2O[C@H](COP(=O)([O-])O...   \n",
       "\n",
       "   Identity  Overall Similarity (Dice)  Reaction Similarity  Label  \\\n",
       "0     100.0                    0.17377             0.057971      1   \n",
       "\n",
       "                               Uniprot ID 1-Sequence  \\\n",
       "0  MAGWSCLVTGAGGFVGQRIIKMLVQEKELQEVRALDKVFRPETKEE...   \n",
       "\n",
       "                               Uniprot ID 2-Sequence  \\\n",
       "0  MAGWSCLVTGAGGFVGQRIIKMLVQEKELQEVRALDKVFRPETKEE...   \n",
       "\n",
       "   Uniprot ID 1- Sequence Length  Uniprot ID 2- Sequence Length  \n",
       "0                            373                            373  "
      ]
     },
     "execution_count": 10,
     "metadata": {},
     "output_type": "execute_result"
    }
   ],
   "source": [
    "dataset.head(1)"
   ]
  },
  {
   "cell_type": "markdown",
   "metadata": {},
   "source": [
    "## Column description\n",
    "Here, I describe the column headers in greater detail. 'RHEA ID 1' (column) is the RHEA ID of 'REACTION SMILES 1' (column). 'UNIPROT ID 1' is an exemplary amino acid sequence corresponding to 'RHEA ID 1'. 'REACTION SMILES 1' see 'RHEA ID 1'. 'RHEA ID 2' (column) is the RHEA ID of 'REACTION SMILES 2' (column). 'UNIPROT ID 2' (column) is an exemplary amino acid sequence corresponding to 'RHEA ID 2' (column).'REACTION SMILES 2' (column) see 'RHEA ID 2' (column). 'Identity' (column) is the amino acid sequence alignment between 'Uniprot ID 1-Sequence' (column) and 'Uniprot ID 2-Sequence' (column). 'Overall Similarity (Dice)' (column) is the computed overall molecular similarity feature. 'Reaction Similarity' (column) is the computed reaction similarity score. 'Label' (column) is the target label (coevolved or not). 'Uniprot ID 1-Sequence' (column) is the primary amino acid sequence corresponding to 'UNIPROT ID 1' (column). 'Uniprot ID 2-Sequence' (column) is the primary amino acid sequence corresponding to 'UNIPROT ID 2' (column). 'Uniprot ID 1- Sequence Length' is the sequence length corresponding to 'Uniprot ID 1-Sequence' (column). 'Uniprot ID 2- Sequence Length' is the sequence length corresponding to 'Uniprot ID 2-Sequence' (column)."
   ]
  },
  {
   "cell_type": "markdown",
   "metadata": {},
   "source": [
    "# Check that the sequence length is greater than 100 amino acids"
   ]
  },
  {
   "cell_type": "code",
   "execution_count": 11,
   "metadata": {},
   "outputs": [
    {
     "name": "stdout",
     "output_type": "stream",
     "text": [
      "The total number of sequences is: 38126\n",
      "The total number of sequences with length <= 100 is: 0\n"
     ]
    }
   ],
   "source": [
    "lenless100 = 0\n",
    "total = 0\n",
    "for item in dataset['Uniprot ID 1- Sequence Length'].tolist():\n",
    "    total += 1\n",
    "    if item <= 100:\n",
    "        lenless100 += 1\n",
    "\n",
    "print ('The total number of sequences is: {}'.format (total))\n",
    "print ('The total number of sequences with length <= 100 is: {}'.format (lenless100))"
   ]
  },
  {
   "cell_type": "code",
   "execution_count": 12,
   "metadata": {},
   "outputs": [
    {
     "name": "stdout",
     "output_type": "stream",
     "text": [
      "The total number of sequences is: 38126\n",
      "The total number of sequences with length <= 100 is: 0\n"
     ]
    }
   ],
   "source": [
    "lenless100 = 0\n",
    "total = 0\n",
    "for item in dataset['Uniprot ID 2- Sequence Length'].tolist():\n",
    "    total += 1\n",
    "    if item <= 100:\n",
    "        lenless100 += 1\n",
    "\n",
    "print ('The total number of sequences is: {}'.format (total))\n",
    "print ('The total number of sequences with length <= 100 is: {}'.format (lenless100))"
   ]
  },
  {
   "cell_type": "markdown",
   "metadata": {},
   "source": [
    "# Understand the identity distribution in the dataset"
   ]
  },
  {
   "cell_type": "code",
   "execution_count": 14,
   "metadata": {},
   "outputs": [],
   "source": [
    "#import the necessary modules\n",
    "import numpy\n",
    "from matplotlib import pyplot"
   ]
  },
  {
   "cell_type": "code",
   "execution_count": 15,
   "metadata": {},
   "outputs": [
    {
     "data": {
      "image/png": "[encoded data removed]",
      "text/plain": [
       "<Figure size 432x288 with 1 Axes>"
      ]
     },
     "metadata": {
      "needs_background": "light"
     },
     "output_type": "display_data"
    }
   ],
   "source": [
    "# separate positive and negative dataset\n",
    "positive_dataset = dataset[dataset['Label'] == 1]\n",
    "negative_dataset = dataset[dataset['Label'] == 0]\n",
    "\n",
    "#get the identity into lists\n",
    "pos_identity = positive_dataset['Identity'].tolist()\n",
    "neg_identity = negative_dataset['Identity'].tolist()\n",
    "\n",
    "#make the plot!\n",
    "bins = numpy.linspace(0, 100, 100)\n",
    "pyplot.hist(neg_identity, bins, alpha=0.5, label='Coevolved-Negative (19.3k Examples)')\n",
    "pyplot.hist(pos_identity, bins, alpha=0.5, label='Coevolved-Positive (18.8k Examples)')\n",
    "pyplot.legend(loc='upper left')\n",
    "pyplot.xlabel ('% Identity- Amino Acid Sequence Alignment')\n",
    "pyplot.ylabel ('Number of instances')\n",
    "pyplot.show()"
   ]
  },
  {
   "cell_type": "markdown",
   "metadata": {},
   "source": [
    "# Feature engineering plot"
   ]
  },
  {
   "cell_type": "code",
   "execution_count": 16,
   "metadata": {},
   "outputs": [
    {
     "data": {
      "image/png": "[encoded data removed]",
      "text/plain": [
       "<Figure size 432x288 with 1 Axes>"
      ]
     },
     "metadata": {
      "needs_background": "light"
     },
     "output_type": "display_data"
    }
   ],
   "source": [
    "import matplotlib.pyplot as plt\n",
    "neg_sim_overall = negative_dataset['Overall Similarity (Dice)'].tolist()\n",
    "neg_sim_reac = negative_dataset['Reaction Similarity'].tolist()\n",
    "pos_sim_overall = positive_dataset['Overall Similarity (Dice)'].tolist()\n",
    "pos_sim_reac = positive_dataset['Reaction Similarity'].tolist()\n",
    "\n",
    "neg = plt.plot(neg_sim_overall, neg_sim_reac, 'bo', label = 'Coevolved-Negative', \n",
    "              markersize = 0.5)\n",
    "pos = plt.plot(pos_sim_overall,pos_sim_reac,'ro', label = 'Coevolved-Positive',\n",
    "              markersize = 0.5)\n",
    "plt.legend(bbox_to_anchor=(1.05, 1), loc='upper left', borderaxespad=0.)\n",
    "plt.ylabel('Reaction Similarity')\n",
    "plt.xlabel('Overall Molecular Similarity')\n",
    "\n",
    "plt.show()"
   ]
  },
  {
   "cell_type": "markdown",
   "metadata": {},
   "source": [
    "# Check to see if reactions containing wildcard have been removed?"
   ]
  },
  {
   "cell_type": "code",
   "execution_count": 17,
   "metadata": {},
   "outputs": [],
   "source": [
    "import re\n",
    "def contains_wildcard (reaction_smiles):\n",
    "    '''The function take as input reaction smiles.\n",
    "    The function will parse the reaction smiles.\n",
    "    It will return True, if the reaction_smiles contains (*). It will return false, if the reaction smiles\n",
    "    does not contain (*)'''\n",
    "    \n",
    "    #check if the SMILES string has any * characters\n",
    "    x = re.findall('[*]', reaction_smiles)\n",
    "    \n",
    "    if x:\n",
    "        return_statement = True\n",
    "    else:\n",
    "        return_statement = False\n",
    "    \n",
    "    return return_statement"
   ]
  },
  {
   "cell_type": "code",
   "execution_count": 20,
   "metadata": {},
   "outputs": [
    {
     "name": "stdout",
     "output_type": "stream",
     "text": [
      "Counter({False: 38126})\n"
     ]
    }
   ],
   "source": [
    "from collections import Counter\n",
    "wildcardlist = []\n",
    "rxn_smiles_list = dataset['REACTION SMILES 1'].tolist()\n",
    "for item in rxn_smiles_list:\n",
    "    wildcardlist.append (contains_wildcard(item))\n",
    "print (Counter (wildcardlist))"
   ]
  },
  {
   "cell_type": "code",
   "execution_count": 21,
   "metadata": {},
   "outputs": [
    {
     "name": "stdout",
     "output_type": "stream",
     "text": [
      "Counter({False: 38126})\n"
     ]
    }
   ],
   "source": [
    "from collections import Counter\n",
    "wildcardlist = []\n",
    "rxn_smiles_list = dataset['REACTION SMILES 2'].tolist()\n",
    "for item in rxn_smiles_list:\n",
    "    wildcardlist.append (contains_wildcard(item))\n",
    "print (Counter (wildcardlist))"
   ]
  },
  {
   "cell_type": "code",
   "execution_count": null,
   "metadata": {},
   "outputs": [],
   "source": []
  }
 ],
 "metadata": {
  "kernelspec": {
   "display_name": "Python 3",
   "language": "python",
   "name": "python3"
  },
  "language_info": {
   "codemirror_mode": {
    "name": "ipython",
    "version": 3
   },
   "file_extension": ".py",
   "mimetype": "text/x-python",
   "name": "python",
   "nbconvert_exporter": "python",
   "pygments_lexer": "ipython3",
   "version": "3.7.6"
  }
 },
 "nbformat": 4,
 "nbformat_minor": 4
}
