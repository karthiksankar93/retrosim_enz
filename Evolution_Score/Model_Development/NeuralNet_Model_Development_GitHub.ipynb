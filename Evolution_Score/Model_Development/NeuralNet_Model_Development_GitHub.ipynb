{
 "cells": [
  {
   "cell_type": "markdown",
   "metadata": {},
   "source": [
    "# Load the necessary modules"
   ]
  },
  {
   "cell_type": "code",
   "execution_count": 1,
   "metadata": {},
   "outputs": [
    {
     "name": "stderr",
     "output_type": "stream",
     "text": [
      "Using TensorFlow backend.\n"
     ]
    }
   ],
   "source": [
    "from numpy import loadtxt\n",
    "from keras.models import Sequential\n",
    "from keras.layers import Dense"
   ]
  },
  {
   "cell_type": "code",
   "execution_count": 2,
   "metadata": {},
   "outputs": [],
   "source": [
    "from keras import metrics"
   ]
  },
  {
   "cell_type": "markdown",
   "metadata": {},
   "source": [
    "# Load the dataset"
   ]
  },
  {
   "cell_type": "code",
   "execution_count": 3,
   "metadata": {},
   "outputs": [],
   "source": [
    "import pandas as pd"
   ]
  },
  {
   "cell_type": "code",
   "execution_count": 4,
   "metadata": {},
   "outputs": [],
   "source": [
    "import os\n",
    "os.chdir ('/home/karthiksankar2/Documents/Evolution_CASP/Neural_Net_PartialData')"
   ]
  },
  {
   "cell_type": "code",
   "execution_count": 5,
   "metadata": {},
   "outputs": [],
   "source": [
    "dataset = pd.read_pickle ('Evolution_dataset_v1.pkl')"
   ]
  },
  {
   "cell_type": "code",
   "execution_count": 6,
   "metadata": {},
   "outputs": [
    {
     "data": {
      "text/html": [
       "<div>\n",
       "<style scoped>\n",
       "    .dataframe tbody tr th:only-of-type {\n",
       "        vertical-align: middle;\n",
       "    }\n",
       "\n",
       "    .dataframe tbody tr th {\n",
       "        vertical-align: top;\n",
       "    }\n",
       "\n",
       "    .dataframe thead th {\n",
       "        text-align: right;\n",
       "    }\n",
       "</style>\n",
       "<table border=\"1\" class=\"dataframe\">\n",
       "  <thead>\n",
       "    <tr style=\"text-align: right;\">\n",
       "      <th></th>\n",
       "      <th>RHEA ID 1</th>\n",
       "      <th>UNIPROT ID 1</th>\n",
       "      <th>REACTION SMILES 1</th>\n",
       "      <th>RHEA ID 2</th>\n",
       "      <th>UNIPROT ID 2</th>\n",
       "      <th>REACTION SMILES 2</th>\n",
       "      <th>Identity</th>\n",
       "      <th>Overall Similarity (Dice)</th>\n",
       "      <th>Reaction Similarity</th>\n",
       "      <th>Ignore (Wild Card)</th>\n",
       "      <th>Label</th>\n",
       "      <th>dataset</th>\n",
       "      <th>Uniprot ID 1-Sequence</th>\n",
       "      <th>Uniprot ID 2-Sequence</th>\n",
       "      <th>Uniprot ID 1- Sequence Length</th>\n",
       "      <th>Uniprot ID 2- Sequence Length</th>\n",
       "      <th>Keep (same reaction check)</th>\n",
       "      <th>Ignore</th>\n",
       "    </tr>\n",
       "  </thead>\n",
       "  <tbody>\n",
       "    <tr>\n",
       "      <th>38121</th>\n",
       "      <td>20073</td>\n",
       "      <td>O82872</td>\n",
       "      <td>[H]C(C)=O.[NH3+]CC(=O)[O-]&gt;&gt;C[C@@H](O)[C@@H]([...</td>\n",
       "      <td>58580</td>\n",
       "      <td>A0A2P1GIW2</td>\n",
       "      <td>[H][C@]12CC[N+](=CC1CC)CC/C1=C(\\NC3=C1C=CC=C3)...</td>\n",
       "      <td>1.931649</td>\n",
       "      <td>0.035556</td>\n",
       "      <td>0.029851</td>\n",
       "      <td>NaN</td>\n",
       "      <td>0</td>\n",
       "      <td>train</td>\n",
       "      <td>MSQEVIRGIALPPPAQPGDPLARVDTPSLVLDLAPFEANLRAMQAW...</td>\n",
       "      <td>MNSSTDPTSDETIWDLSPYIKIFKDGRVERLHNSPYVPPSLNDPET...</td>\n",
       "      <td>379</td>\n",
       "      <td>330</td>\n",
       "      <td>NaN</td>\n",
       "      <td>False</td>\n",
       "    </tr>\n",
       "    <tr>\n",
       "      <th>38122</th>\n",
       "      <td>14213</td>\n",
       "      <td>D4GYE6</td>\n",
       "      <td>NC1=NC=NC2=C1N=CN2[C@@H]1O[C@H](COP(=O)([O-])O...</td>\n",
       "      <td>36555</td>\n",
       "      <td>Q5E9R6</td>\n",
       "      <td>CCCCCCCCCCCCCCCCCCCC(=O)SCCNC(=O)CCNC(=O)[C@H]...</td>\n",
       "      <td>1.692308</td>\n",
       "      <td>0.284444</td>\n",
       "      <td>0.260870</td>\n",
       "      <td>NaN</td>\n",
       "      <td>0</td>\n",
       "      <td>train</td>\n",
       "      <td>MILTVTPNPAVDHTIHFDEPLQTGVVHRTDDAVFTAGGKGINVAKY...</td>\n",
       "      <td>MWSSLNDWLWNERLWLPANISWAQLEDHDGLVFPHPQDTLMAVPLA...</td>\n",
       "      <td>305</td>\n",
       "      <td>393</td>\n",
       "      <td>NaN</td>\n",
       "      <td>False</td>\n",
       "    </tr>\n",
       "    <tr>\n",
       "      <th>38123</th>\n",
       "      <td>22132</td>\n",
       "      <td>Q7MFC4</td>\n",
       "      <td>NC1=NC=NC2=C1N=CN2[C@@H]1O[C@H](COP(=O)([O-])O...</td>\n",
       "      <td>51092</td>\n",
       "      <td>Q9HCS2</td>\n",
       "      <td>CC/C=C\\C/C=C\\C/C=C\\CC1OC1C/C=C\\C/C=C\\CCC(=O)[O...</td>\n",
       "      <td>4.786546</td>\n",
       "      <td>0.150817</td>\n",
       "      <td>0.023810</td>\n",
       "      <td>NaN</td>\n",
       "      <td>0</td>\n",
       "      <td>train</td>\n",
       "      <td>MASVTLKNVCKAYGDVLISKNVDLEINEGEFVVFVGPSGCGKSTLL...</td>\n",
       "      <td>MSLLSLPWLGLRPVATSPWLLLLLVVGSWLLARILAWTYAFYNNCR...</td>\n",
       "      <td>371</td>\n",
       "      <td>524</td>\n",
       "      <td>NaN</td>\n",
       "      <td>False</td>\n",
       "    </tr>\n",
       "    <tr>\n",
       "      <th>38124</th>\n",
       "      <td>23940</td>\n",
       "      <td>P0A9Q0</td>\n",
       "      <td>NC(=O)C1=CN([C@@H]2O[C@H](COP(=O)([O-])OP(=O)(...</td>\n",
       "      <td>25209</td>\n",
       "      <td>Q9PF75</td>\n",
       "      <td>CCCCCCCCCCC[C@@H](O)CC(=O)O[C@H]1[C@H](O)[C@@H...</td>\n",
       "      <td>13.150685</td>\n",
       "      <td>0.312330</td>\n",
       "      <td>0.111111</td>\n",
       "      <td>NaN</td>\n",
       "      <td>0</td>\n",
       "      <td>train</td>\n",
       "      <td>MNDLFSLAGKNILITGSAQGIGFLLATGLGKYGAQIIINDITAERA...</td>\n",
       "      <td>MSQQRTLNNTIRATGVGLHSGNKIHITLRPAPVNHGIVFRRVDLDP...</td>\n",
       "      <td>254</td>\n",
       "      <td>304</td>\n",
       "      <td>NaN</td>\n",
       "      <td>False</td>\n",
       "    </tr>\n",
       "    <tr>\n",
       "      <th>38125</th>\n",
       "      <td>13213</td>\n",
       "      <td>P9WNX6</td>\n",
       "      <td>NC(=O)C1=CN([C@@H]2O[C@H](COP(=O)([O-])OP(=O)(...</td>\n",
       "      <td>49197</td>\n",
       "      <td>Q09128</td>\n",
       "      <td>O=O.S1[Fe]S[Fe+]1.S1[Fe]S[Fe+]1.[H+].[H+].[H][...</td>\n",
       "      <td>3.820961</td>\n",
       "      <td>0.091042</td>\n",
       "      <td>0.054054</td>\n",
       "      <td>NaN</td>\n",
       "      <td>0</td>\n",
       "      <td>train</td>\n",
       "      <td>MPAPSAEVFDRLRNLAAIKDVAARPTRTIDEVFTGKPLTTIPVGTA...</td>\n",
       "      <td>MSCPIDKRRTLIAFLRRLRDLGQPPRSVTSKASASRAPKEVPLCPL...</td>\n",
       "      <td>518</td>\n",
       "      <td>514</td>\n",
       "      <td>NaN</td>\n",
       "      <td>False</td>\n",
       "    </tr>\n",
       "  </tbody>\n",
       "</table>\n",
       "</div>"
      ],
      "text/plain": [
       "       RHEA ID 1 UNIPROT ID 1  \\\n",
       "38121      20073       O82872   \n",
       "38122      14213       D4GYE6   \n",
       "38123      22132       Q7MFC4   \n",
       "38124      23940       P0A9Q0   \n",
       "38125      13213       P9WNX6   \n",
       "\n",
       "                                       REACTION SMILES 1  RHEA ID 2  \\\n",
       "38121  [H]C(C)=O.[NH3+]CC(=O)[O-]>>C[C@@H](O)[C@@H]([...      58580   \n",
       "38122  NC1=NC=NC2=C1N=CN2[C@@H]1O[C@H](COP(=O)([O-])O...      36555   \n",
       "38123  NC1=NC=NC2=C1N=CN2[C@@H]1O[C@H](COP(=O)([O-])O...      51092   \n",
       "38124  NC(=O)C1=CN([C@@H]2O[C@H](COP(=O)([O-])OP(=O)(...      25209   \n",
       "38125  NC(=O)C1=CN([C@@H]2O[C@H](COP(=O)([O-])OP(=O)(...      49197   \n",
       "\n",
       "      UNIPROT ID 2                                  REACTION SMILES 2  \\\n",
       "38121   A0A2P1GIW2  [H][C@]12CC[N+](=CC1CC)CC/C1=C(\\NC3=C1C=CC=C3)...   \n",
       "38122       Q5E9R6  CCCCCCCCCCCCCCCCCCCC(=O)SCCNC(=O)CCNC(=O)[C@H]...   \n",
       "38123       Q9HCS2  CC/C=C\\C/C=C\\C/C=C\\CC1OC1C/C=C\\C/C=C\\CCC(=O)[O...   \n",
       "38124       Q9PF75  CCCCCCCCCCC[C@@H](O)CC(=O)O[C@H]1[C@H](O)[C@@H...   \n",
       "38125       Q09128  O=O.S1[Fe]S[Fe+]1.S1[Fe]S[Fe+]1.[H+].[H+].[H][...   \n",
       "\n",
       "        Identity  Overall Similarity (Dice)  Reaction Similarity  \\\n",
       "38121   1.931649                   0.035556             0.029851   \n",
       "38122   1.692308                   0.284444             0.260870   \n",
       "38123   4.786546                   0.150817             0.023810   \n",
       "38124  13.150685                   0.312330             0.111111   \n",
       "38125   3.820961                   0.091042             0.054054   \n",
       "\n",
       "      Ignore (Wild Card)  Label dataset  \\\n",
       "38121                NaN      0   train   \n",
       "38122                NaN      0   train   \n",
       "38123                NaN      0   train   \n",
       "38124                NaN      0   train   \n",
       "38125                NaN      0   train   \n",
       "\n",
       "                                   Uniprot ID 1-Sequence  \\\n",
       "38121  MSQEVIRGIALPPPAQPGDPLARVDTPSLVLDLAPFEANLRAMQAW...   \n",
       "38122  MILTVTPNPAVDHTIHFDEPLQTGVVHRTDDAVFTAGGKGINVAKY...   \n",
       "38123  MASVTLKNVCKAYGDVLISKNVDLEINEGEFVVFVGPSGCGKSTLL...   \n",
       "38124  MNDLFSLAGKNILITGSAQGIGFLLATGLGKYGAQIIINDITAERA...   \n",
       "38125  MPAPSAEVFDRLRNLAAIKDVAARPTRTIDEVFTGKPLTTIPVGTA...   \n",
       "\n",
       "                                   Uniprot ID 2-Sequence  \\\n",
       "38121  MNSSTDPTSDETIWDLSPYIKIFKDGRVERLHNSPYVPPSLNDPET...   \n",
       "38122  MWSSLNDWLWNERLWLPANISWAQLEDHDGLVFPHPQDTLMAVPLA...   \n",
       "38123  MSLLSLPWLGLRPVATSPWLLLLLVVGSWLLARILAWTYAFYNNCR...   \n",
       "38124  MSQQRTLNNTIRATGVGLHSGNKIHITLRPAPVNHGIVFRRVDLDP...   \n",
       "38125  MSCPIDKRRTLIAFLRRLRDLGQPPRSVTSKASASRAPKEVPLCPL...   \n",
       "\n",
       "       Uniprot ID 1- Sequence Length  Uniprot ID 2- Sequence Length  \\\n",
       "38121                            379                            330   \n",
       "38122                            305                            393   \n",
       "38123                            371                            524   \n",
       "38124                            254                            304   \n",
       "38125                            518                            514   \n",
       "\n",
       "      Keep (same reaction check) Ignore  \n",
       "38121                        NaN  False  \n",
       "38122                        NaN  False  \n",
       "38123                        NaN  False  \n",
       "38124                        NaN  False  \n",
       "38125                        NaN  False  "
      ]
     },
     "execution_count": 6,
     "metadata": {},
     "output_type": "execute_result"
    }
   ],
   "source": [
    "dataset.tail()"
   ]
  },
  {
   "cell_type": "markdown",
   "metadata": {},
   "source": [
    "# Split the dataset into train, validation, and test splits randomly"
   ]
  },
  {
   "cell_type": "code",
   "execution_count": 68,
   "metadata": {},
   "outputs": [],
   "source": [
    "import numpy as np\n",
    "import time"
   ]
  },
  {
   "cell_type": "code",
   "execution_count": 69,
   "metadata": {},
   "outputs": [],
   "source": [
    "def split_data_df(data, test_frac = 0.1, val_frac = 0.1, shuffle=True, seed = 0):\n",
    "   \n",
    "    # Define shuffling\n",
    "    if shuffle:\n",
    "        if seed is None:\n",
    "            np.random.seed(int(time.time()))\n",
    "        else:\n",
    "            np.random.seed(seed)\n",
    "            \n",
    "        def shuffle_func(x):\n",
    "            np.random.shuffle(x)\n",
    "    else:\n",
    "        def shuffle_func(x):\n",
    "            pass\n",
    "    \n",
    "    #get all indeces\n",
    "    indeces = data.index.tolist()\n",
    "    N = len(indeces)\n",
    "    print ('{} reactions available in the dataset'.format(N))\n",
    "    \n",
    "    shuffle_func(indeces)\n",
    "    \n",
    "    train_end = int((1.0-test_frac-val_frac)*N)\n",
    "    val_end = int((1.0 - test_frac) * N)\n",
    "    \n",
    "    for i in indeces [:train_end]:\n",
    "        data.set_value(i, 'dataset', 'train')\n",
    "    for i in indeces [train_end:val_end]:\n",
    "        data.set_value(i,'dataset', 'validation')\n",
    "    for i in indeces [val_end:]:\n",
    "        data.set_value(i,'dataset', 'test')\n",
    "    \n",
    "    print(data['dataset'].value_counts())"
   ]
  },
  {
   "cell_type": "code",
   "execution_count": 70,
   "metadata": {},
   "outputs": [],
   "source": [
    "dataset.reset_index(drop = True, inplace = True)"
   ]
  },
  {
   "cell_type": "code",
   "execution_count": 71,
   "metadata": {},
   "outputs": [
    {
     "name": "stdout",
     "output_type": "stream",
     "text": [
      "38126 reactions available in the dataset\n"
     ]
    },
    {
     "name": "stderr",
     "output_type": "stream",
     "text": [
      "/home/karthiksankar2/anaconda3/envs/RDKIT_BinaryClassification/lib/python3.7/site-packages/ipykernel_launcher.py:27: FutureWarning: set_value is deprecated and will be removed in a future release. Please use .at[] or .iat[] accessors instead\n"
     ]
    },
    {
     "name": "stdout",
     "output_type": "stream",
     "text": [
      "train         30500\n",
      "test           3813\n",
      "validation     3813\n",
      "Name: dataset, dtype: int64\n"
     ]
    },
    {
     "name": "stderr",
     "output_type": "stream",
     "text": [
      "/home/karthiksankar2/anaconda3/envs/RDKIT_BinaryClassification/lib/python3.7/site-packages/ipykernel_launcher.py:29: FutureWarning: set_value is deprecated and will be removed in a future release. Please use .at[] or .iat[] accessors instead\n",
      "/home/karthiksankar2/anaconda3/envs/RDKIT_BinaryClassification/lib/python3.7/site-packages/ipykernel_launcher.py:31: FutureWarning: set_value is deprecated and will be removed in a future release. Please use .at[] or .iat[] accessors instead\n"
     ]
    }
   ],
   "source": [
    "split_data_df (dataset)"
   ]
  },
  {
   "cell_type": "markdown",
   "metadata": {},
   "source": [
    "# Process the training dataset"
   ]
  },
  {
   "cell_type": "code",
   "execution_count": 72,
   "metadata": {},
   "outputs": [],
   "source": [
    "train = dataset [dataset['dataset'] == 'train']"
   ]
  },
  {
   "cell_type": "code",
   "execution_count": 73,
   "metadata": {},
   "outputs": [
    {
     "data": {
      "text/html": [
       "<div>\n",
       "<style scoped>\n",
       "    .dataframe tbody tr th:only-of-type {\n",
       "        vertical-align: middle;\n",
       "    }\n",
       "\n",
       "    .dataframe tbody tr th {\n",
       "        vertical-align: top;\n",
       "    }\n",
       "\n",
       "    .dataframe thead th {\n",
       "        text-align: right;\n",
       "    }\n",
       "</style>\n",
       "<table border=\"1\" class=\"dataframe\">\n",
       "  <thead>\n",
       "    <tr style=\"text-align: right;\">\n",
       "      <th></th>\n",
       "      <th>Overall Similarity (Dice)</th>\n",
       "      <th>Reaction Similarity</th>\n",
       "      <th>Label</th>\n",
       "    </tr>\n",
       "  </thead>\n",
       "  <tbody>\n",
       "    <tr>\n",
       "      <th>0</th>\n",
       "      <td>0.173770</td>\n",
       "      <td>0.057971</td>\n",
       "      <td>1</td>\n",
       "    </tr>\n",
       "    <tr>\n",
       "      <th>1</th>\n",
       "      <td>0.238522</td>\n",
       "      <td>0.057971</td>\n",
       "      <td>1</td>\n",
       "    </tr>\n",
       "    <tr>\n",
       "      <th>2</th>\n",
       "      <td>0.579323</td>\n",
       "      <td>1.000000</td>\n",
       "      <td>1</td>\n",
       "    </tr>\n",
       "    <tr>\n",
       "      <th>3</th>\n",
       "      <td>0.579323</td>\n",
       "      <td>1.000000</td>\n",
       "      <td>1</td>\n",
       "    </tr>\n",
       "    <tr>\n",
       "      <th>4</th>\n",
       "      <td>0.529544</td>\n",
       "      <td>0.727273</td>\n",
       "      <td>1</td>\n",
       "    </tr>\n",
       "  </tbody>\n",
       "</table>\n",
       "</div>"
      ],
      "text/plain": [
       "   Overall Similarity (Dice)  Reaction Similarity  Label\n",
       "0                   0.173770             0.057971      1\n",
       "1                   0.238522             0.057971      1\n",
       "2                   0.579323             1.000000      1\n",
       "3                   0.579323             1.000000      1\n",
       "4                   0.529544             0.727273      1"
      ]
     },
     "execution_count": 73,
     "metadata": {},
     "output_type": "execute_result"
    }
   ],
   "source": [
    "train_dataset = train [['Overall Similarity (Dice)', 'Reaction Similarity', 'Label']]\n",
    "train_dataset.head()"
   ]
  },
  {
   "cell_type": "code",
   "execution_count": 74,
   "metadata": {},
   "outputs": [],
   "source": [
    "X_y = train_dataset.to_numpy()"
   ]
  },
  {
   "cell_type": "code",
   "execution_count": 75,
   "metadata": {},
   "outputs": [
    {
     "data": {
      "text/plain": [
       "array([[0.17377049, 0.05797101, 1.        ],\n",
       "       [0.23852209, 0.05797101, 1.        ],\n",
       "       [0.57932264, 1.        , 1.        ],\n",
       "       ...,\n",
       "       [0.28444444, 0.26086957, 0.        ],\n",
       "       [0.31233025, 0.11111111, 0.        ],\n",
       "       [0.09104191, 0.05405405, 0.        ]])"
      ]
     },
     "execution_count": 75,
     "metadata": {},
     "output_type": "execute_result"
    }
   ],
   "source": [
    "X_y"
   ]
  },
  {
   "cell_type": "code",
   "execution_count": 76,
   "metadata": {},
   "outputs": [],
   "source": [
    "X = X_y [:,0:2]\n",
    "y = X_y [:,2]"
   ]
  },
  {
   "cell_type": "code",
   "execution_count": 77,
   "metadata": {},
   "outputs": [
    {
     "data": {
      "text/plain": [
       "array([[0.17377049, 0.05797101],\n",
       "       [0.23852209, 0.05797101],\n",
       "       [0.57932264, 1.        ],\n",
       "       ...,\n",
       "       [0.28444444, 0.26086957],\n",
       "       [0.31233025, 0.11111111],\n",
       "       [0.09104191, 0.05405405]])"
      ]
     },
     "execution_count": 77,
     "metadata": {},
     "output_type": "execute_result"
    }
   ],
   "source": [
    "X"
   ]
  },
  {
   "cell_type": "code",
   "execution_count": 78,
   "metadata": {},
   "outputs": [
    {
     "data": {
      "text/plain": [
       "array([1., 1., 1., ..., 0., 0., 0.])"
      ]
     },
     "execution_count": 78,
     "metadata": {},
     "output_type": "execute_result"
    }
   ],
   "source": [
    "y"
   ]
  },
  {
   "cell_type": "markdown",
   "metadata": {},
   "source": [
    "# Train the neural models"
   ]
  },
  {
   "cell_type": "markdown",
   "metadata": {},
   "source": [
    "The goal is to train a neural network with (5 hidden layers, 5 nodes/layer), (4 hidden layers, 4 nodes/layer), (3 hidden layers, 3 nodes/layer)."
   ]
  },
  {
   "cell_type": "markdown",
   "metadata": {},
   "source": [
    "## Keras model (5x5)\n",
    "Train the 5 hidden layers, 5 nodes/layer model"
   ]
  },
  {
   "cell_type": "code",
   "execution_count": 79,
   "metadata": {},
   "outputs": [],
   "source": [
    "model = Sequential()\n",
    "model.add(Dense(5, input_dim=2, activation='relu'))\n",
    "model.add(Dense(5, activation='relu'))\n",
    "model.add(Dense(5, activation='relu'))\n",
    "model.add(Dense(5, activation='relu'))\n",
    "model.add(Dense(5, activation='relu'))\n",
    "model.add(Dense(1, activation='sigmoid'))"
   ]
  },
  {
   "cell_type": "code",
   "execution_count": 80,
   "metadata": {},
   "outputs": [],
   "source": [
    "model.compile(loss='binary_crossentropy', optimizer='adam', metrics=[metrics.AUC(),\n",
    "                                                                    metrics.Precision(),\n",
    "                                                                    metrics.Recall()])"
   ]
  },
  {
   "cell_type": "code",
   "execution_count": 81,
   "metadata": {},
   "outputs": [
    {
     "name": "stdout",
     "output_type": "stream",
     "text": [
      "Epoch 1/10\n",
      "30500/30500 [==============================] - 5s 161us/step - loss: 0.2491 - auc_5: 0.9637 - precision_5: 0.9419 - recall_5: 0.8724\n",
      "Epoch 2/10\n",
      "30500/30500 [==============================] - 5s 148us/step - loss: 0.1755 - auc_5: 0.9781 - precision_5: 0.9387 - recall_5: 0.9411\n",
      "Epoch 3/10\n",
      "30500/30500 [==============================] - 4s 147us/step - loss: 0.1733 - auc_5: 0.9782 - precision_5: 0.9421 - recall_5: 0.9377\n",
      "Epoch 4/10\n",
      "30500/30500 [==============================] - 4s 147us/step - loss: 0.1718 - auc_5: 0.9785 - precision_5: 0.9432 - recall_5: 0.9380\n",
      "Epoch 5/10\n",
      "30500/30500 [==============================] - 5s 148us/step - loss: 0.1706 - auc_5: 0.9791 - precision_5: 0.9441 - recall_5: 0.9359\n",
      "Epoch 6/10\n",
      "30500/30500 [==============================] - 4s 147us/step - loss: 0.1696 - auc_5: 0.9796 - precision_5: 0.9436 - recall_5: 0.9378\n",
      "Epoch 7/10\n",
      "30500/30500 [==============================] - 5s 148us/step - loss: 0.1687 - auc_5: 0.9797 - precision_5: 0.9435 - recall_5: 0.9388\n",
      "Epoch 8/10\n",
      "30500/30500 [==============================] - 4s 147us/step - loss: 0.1689 - auc_5: 0.9797 - precision_5: 0.9436 - recall_5: 0.93760s - loss: 0.1681 - auc_5: 0.9798 - precision_5:\n",
      "Epoch 9/10\n",
      "30500/30500 [==============================] - 4s 147us/step - loss: 0.1682 - auc_5: 0.9800 - precision_5: 0.9426 - recall_5: 0.9400\n",
      "Epoch 10/10\n",
      "30500/30500 [==============================] - 5s 148us/step - loss: 0.1676 - auc_5: 0.9800 - precision_5: 0.9426 - recall_5: 0.9399\n"
     ]
    },
    {
     "data": {
      "text/plain": [
       "<keras.callbacks.callbacks.History at 0x7ff692712990>"
      ]
     },
     "execution_count": 81,
     "metadata": {},
     "output_type": "execute_result"
    }
   ],
   "source": [
    "model.fit(X, y, epochs=10, batch_size=10)"
   ]
  },
  {
   "cell_type": "markdown",
   "metadata": {},
   "source": [
    "## Keras Model (4x4)\n",
    "Train the 4 hidden layers, 4 nodes/layer model"
   ]
  },
  {
   "cell_type": "code",
   "execution_count": 83,
   "metadata": {},
   "outputs": [
    {
     "name": "stdout",
     "output_type": "stream",
     "text": [
      "Epoch 1/10\n",
      "30500/30500 [==============================] - 5s 151us/step - loss: 0.3281 - auc_7: 0.9564 - precision_7: 0.9487 - recall_7: 0.85371s - loss: 0.3595 - auc_7: 0.9539 \n",
      "Epoch 2/10\n",
      "30500/30500 [==============================] - 4s 138us/step - loss: 0.1968 - auc_7: 0.9728 - precision_7: 0.9454 - recall_7: 0.9334\n",
      "Epoch 3/10\n",
      "30500/30500 [==============================] - 4s 138us/step - loss: 0.1797 - auc_7: 0.9781 - precision_7: 0.9410 - recall_7: 0.9392\n",
      "Epoch 4/10\n",
      "30500/30500 [==============================] - 4s 137us/step - loss: 0.1749 - auc_7: 0.9791 - precision_7: 0.9411 - recall_7: 0.9406\n",
      "Epoch 5/10\n",
      "30500/30500 [==============================] - 4s 136us/step - loss: 0.1730 - auc_7: 0.9794 - precision_7: 0.9409 - recall_7: 0.9397\n",
      "Epoch 6/10\n",
      "30500/30500 [==============================] - 4s 137us/step - loss: 0.1721 - auc_7: 0.9794 - precision_7: 0.9415 - recall_7: 0.9392\n",
      "Epoch 7/10\n",
      "30500/30500 [==============================] - 4s 138us/step - loss: 0.1714 - auc_7: 0.9796 - precision_7: 0.9427 - recall_7: 0.9394\n",
      "Epoch 8/10\n",
      "30500/30500 [==============================] - 4s 137us/step - loss: 0.1707 - auc_7: 0.9798 - precision_7: 0.9431 - recall_7: 0.93800s - loss: 0.1712 - auc_7: 0.9796 - precision_7: 0.942\n",
      "Epoch 9/10\n",
      "30500/30500 [==============================] - 4s 137us/step - loss: 0.1703 - auc_7: 0.9800 - precision_7: 0.9430 - recall_7: 0.9378\n",
      "Epoch 10/10\n",
      "30500/30500 [==============================] - 4s 137us/step - loss: 0.1700 - auc_7: 0.9801 - precision_7: 0.9433 - recall_7: 0.9377\n"
     ]
    },
    {
     "data": {
      "text/plain": [
       "<keras.callbacks.callbacks.History at 0x7ff6920ef690>"
      ]
     },
     "execution_count": 83,
     "metadata": {},
     "output_type": "execute_result"
    }
   ],
   "source": [
    "# model parameters\n",
    "model2 = Sequential()\n",
    "model2.add(Dense(4, input_dim=2, activation='relu'))\n",
    "model2.add(Dense(4, activation='relu'))\n",
    "model2.add(Dense(4, activation='relu'))\n",
    "model2.add(Dense(4, activation='relu'))\n",
    "model2.add(Dense(1, activation='sigmoid'))\n",
    "\n",
    "#loss settings\n",
    "model2.compile(loss='binary_crossentropy', optimizer='adam', metrics=[metrics.AUC(),\n",
    "                                                                    metrics.Precision(),\n",
    "                                                                    metrics.Recall()])\n",
    "#train the new model\n",
    "model2.fit(X, y, epochs=10, batch_size=10)"
   ]
  },
  {
   "cell_type": "markdown",
   "metadata": {},
   "source": [
    "## Keras model (3x3)\n",
    "Train the 3 hidden layers, 3 nodes/layer model"
   ]
  },
  {
   "cell_type": "code",
   "execution_count": 84,
   "metadata": {},
   "outputs": [
    {
     "name": "stdout",
     "output_type": "stream",
     "text": [
      "Epoch 1/10\n",
      "30500/30500 [==============================] - 4s 139us/step - loss: 0.3462 - auc_8: 0.9532 - precision_8: 0.9524 - recall_8: 0.8425\n",
      "Epoch 2/10\n",
      "30500/30500 [==============================] - 4s 127us/step - loss: 0.1975 - auc_8: 0.9722 - precision_8: 0.9479 - recall_8: 0.9296\n",
      "Epoch 3/10\n",
      "30500/30500 [==============================] - 4s 126us/step - loss: 0.1813 - auc_8: 0.9762 - precision_8: 0.9488 - recall_8: 0.9252\n",
      "Epoch 4/10\n",
      "30500/30500 [==============================] - 4s 125us/step - loss: 0.1775 - auc_8: 0.9775 - precision_8: 0.9489 - recall_8: 0.9243\n",
      "Epoch 5/10\n",
      "30500/30500 [==============================] - 4s 126us/step - loss: 0.1758 - auc_8: 0.9782 - precision_8: 0.9499 - recall_8: 0.9242\n",
      "Epoch 6/10\n",
      "30500/30500 [==============================] - 4s 125us/step - loss: 0.1751 - auc_8: 0.9785 - precision_8: 0.9500 - recall_8: 0.9242\n",
      "Epoch 7/10\n",
      "30500/30500 [==============================] - 4s 124us/step - loss: 0.1744 - auc_8: 0.9787 - precision_8: 0.9494 - recall_8: 0.9238\n",
      "Epoch 8/10\n",
      "30500/30500 [==============================] - 4s 126us/step - loss: 0.1740 - auc_8: 0.9787 - precision_8: 0.9494 - recall_8: 0.9238\n",
      "Epoch 9/10\n",
      "30500/30500 [==============================] - 4s 125us/step - loss: 0.1737 - auc_8: 0.9789 - precision_8: 0.9493 - recall_8: 0.9244\n",
      "Epoch 10/10\n",
      "30500/30500 [==============================] - 4s 125us/step - loss: 0.1734 - auc_8: 0.9787 - precision_8: 0.9497 - recall_8: 0.9245\n"
     ]
    },
    {
     "data": {
      "text/plain": [
       "<keras.callbacks.callbacks.History at 0x7ff6923f4a50>"
      ]
     },
     "execution_count": 84,
     "metadata": {},
     "output_type": "execute_result"
    }
   ],
   "source": [
    "# model parameters\n",
    "model3 = Sequential()\n",
    "model3.add(Dense(3, input_dim=2, activation='relu'))\n",
    "model3.add(Dense(3, activation='relu'))\n",
    "model3.add(Dense(3, activation='relu'))\n",
    "model3.add(Dense(1, activation='sigmoid'))\n",
    "\n",
    "#loss settings\n",
    "model3.compile(loss='binary_crossentropy', optimizer='adam', metrics=[metrics.AUC(),\n",
    "                                                                    metrics.Precision(),\n",
    "                                                                    metrics.Recall()])\n",
    "#train the new model\n",
    "model3.fit(X, y, epochs=10, batch_size=10)"
   ]
  },
  {
   "cell_type": "markdown",
   "metadata": {},
   "source": [
    "# Validation Dataset\n",
    "Process the validation dataset into a format that can be used by the model. Calculate the accuracy metric for the different conditions that were tested."
   ]
  },
  {
   "cell_type": "code",
   "execution_count": 85,
   "metadata": {},
   "outputs": [],
   "source": [
    "validation = dataset [dataset['dataset'] == 'validation']"
   ]
  },
  {
   "cell_type": "code",
   "execution_count": 86,
   "metadata": {},
   "outputs": [],
   "source": [
    "val_dataset = validation [['Overall Similarity (Dice)', 'Reaction Similarity', 'Label']]\n",
    "Xval_yval = val_dataset.to_numpy()\n",
    "Xval = Xval_yval [:,0:2]\n",
    "yval = Xval_yval [:,2]"
   ]
  },
  {
   "cell_type": "code",
   "execution_count": 87,
   "metadata": {},
   "outputs": [
    {
     "data": {
      "text/plain": [
       "array([[0.97593349, 1.        ],\n",
       "       [0.95216012, 1.        ],\n",
       "       [0.67850796, 0.85714286],\n",
       "       ...,\n",
       "       [0.51705627, 0.15555556],\n",
       "       [0.04140072, 0.10666667],\n",
       "       [0.04072727, 0.06521739]])"
      ]
     },
     "execution_count": 87,
     "metadata": {},
     "output_type": "execute_result"
    }
   ],
   "source": [
    "Xval"
   ]
  },
  {
   "cell_type": "code",
   "execution_count": 88,
   "metadata": {},
   "outputs": [
    {
     "data": {
      "text/plain": [
       "array([1., 1., 1., ..., 0., 0., 0.])"
      ]
     },
     "execution_count": 88,
     "metadata": {},
     "output_type": "execute_result"
    }
   ],
   "source": [
    "yval"
   ]
  },
  {
   "cell_type": "code",
   "execution_count": 91,
   "metadata": {},
   "outputs": [
    {
     "data": {
      "image/png": "[encoded data removed]",
      "text/plain": [
       "<Figure size 432x288 with 1 Axes>"
      ]
     },
     "metadata": {
      "needs_background": "light"
     },
     "output_type": "display_data"
    },
    {
     "name": "stdout",
     "output_type": "stream",
     "text": [
      "0.9805407540335677\n"
     ]
    }
   ],
   "source": [
    "from sklearn.metrics import average_precision_score, precision_recall_curve\n",
    "from sklearn.metrics import auc, plot_precision_recall_curve\n",
    "import matplotlib.pyplot as plt\n",
    "y_pred_val = model.predict_proba(Xval)\n",
    "from sklearn.metrics import roc_curve,roc_auc_score\n",
    "fpr,tpr,thresholds = roc_curve ( yval , y_pred_val)\n",
    "roc_auc = auc(fpr,tpr)\n",
    "import matplotlib.pyplot as plt\n",
    "def plot_roc_curve(fpr,tpr): \n",
    "  plt.plot(fpr,tpr) \n",
    "  plt.axis([0,1,0,1]) \n",
    "  plt.xlabel('False Positive Rate') \n",
    "  plt.ylabel('True Positive Rate') \n",
    "  plt.show()    \n",
    "  \n",
    "plot_roc_curve (fpr,tpr)\n",
    "print (roc_auc)"
   ]
  },
  {
   "cell_type": "code",
   "execution_count": 92,
   "metadata": {},
   "outputs": [
    {
     "data": {
      "image/png": "[encoded data removed]",
      "text/plain": [
       "<Figure size 432x288 with 1 Axes>"
      ]
     },
     "metadata": {
      "needs_background": "light"
     },
     "output_type": "display_data"
    },
    {
     "name": "stdout",
     "output_type": "stream",
     "text": [
      "0.9800447807203446\n"
     ]
    }
   ],
   "source": [
    "from sklearn.metrics import average_precision_score, precision_recall_curve\n",
    "from sklearn.metrics import auc, plot_precision_recall_curve\n",
    "import matplotlib.pyplot as plt\n",
    "y_pred_val = model2.predict_proba(Xval)\n",
    "from sklearn.metrics import roc_curve,roc_auc_score\n",
    "fpr,tpr,thresholds = roc_curve ( yval , y_pred_val)\n",
    "roc_auc = auc(fpr,tpr)\n",
    "import matplotlib.pyplot as plt\n",
    "def plot_roc_curve(fpr,tpr): \n",
    "  plt.plot(fpr,tpr) \n",
    "  plt.axis([0,1,0,1]) \n",
    "  plt.xlabel('False Positive Rate') \n",
    "  plt.ylabel('True Positive Rate') \n",
    "  plt.show()    \n",
    "  \n",
    "plot_roc_curve (fpr,tpr)\n",
    "print (roc_auc)"
   ]
  },
  {
   "cell_type": "code",
   "execution_count": 93,
   "metadata": {},
   "outputs": [
    {
     "data": {
      "image/png": "[encoded data removed]",
      "text/plain": [
       "<Figure size 432x288 with 1 Axes>"
      ]
     },
     "metadata": {
      "needs_background": "light"
     },
     "output_type": "display_data"
    },
    {
     "name": "stdout",
     "output_type": "stream",
     "text": [
      "0.9790659077522665\n"
     ]
    }
   ],
   "source": [
    "from sklearn.metrics import average_precision_score, precision_recall_curve\n",
    "from sklearn.metrics import auc, plot_precision_recall_curve\n",
    "import matplotlib.pyplot as plt\n",
    "y_pred_val = model3.predict_proba(Xval)\n",
    "from sklearn.metrics import roc_curve,roc_auc_score\n",
    "fpr,tpr,thresholds = roc_curve ( yval , y_pred_val)\n",
    "roc_auc = auc(fpr,tpr)\n",
    "import matplotlib.pyplot as plt\n",
    "def plot_roc_curve(fpr,tpr): \n",
    "  plt.plot(fpr,tpr) \n",
    "  plt.axis([0,1,0,1]) \n",
    "  plt.xlabel('False Positive Rate') \n",
    "  plt.ylabel('True Positive Rate') \n",
    "  plt.show()    \n",
    "  \n",
    "plot_roc_curve (fpr,tpr)\n",
    "print (roc_auc)"
   ]
  },
  {
   "cell_type": "markdown",
   "metadata": {},
   "source": [
    "# Test Dataset\n",
    "The goal here is to get the test dataset into an appropriate format. Then, the next task involves calculating the accuracy metrics."
   ]
  },
  {
   "cell_type": "code",
   "execution_count": 94,
   "metadata": {},
   "outputs": [
    {
     "name": "stdout",
     "output_type": "stream",
     "text": [
      "Model: \"sequential_8\"\n",
      "_________________________________________________________________\n",
      "Layer (type)                 Output Shape              Param #   \n",
      "=================================================================\n",
      "dense_37 (Dense)             (None, 3)                 9         \n",
      "_________________________________________________________________\n",
      "dense_38 (Dense)             (None, 3)                 12        \n",
      "_________________________________________________________________\n",
      "dense_39 (Dense)             (None, 3)                 12        \n",
      "_________________________________________________________________\n",
      "dense_40 (Dense)             (None, 1)                 4         \n",
      "=================================================================\n",
      "Total params: 37\n",
      "Trainable params: 37\n",
      "Non-trainable params: 0\n",
      "_________________________________________________________________\n",
      "None\n"
     ]
    }
   ],
   "source": [
    "print (model3.summary())"
   ]
  },
  {
   "cell_type": "code",
   "execution_count": 95,
   "metadata": {},
   "outputs": [],
   "source": [
    "#get the test data into the appropriate format\n",
    "test_dataset = dataset [dataset['dataset'] == 'test']\n",
    "test_dataset = test_dataset [['Overall Similarity (Dice)', 'Reaction Similarity', 'Label']]\n",
    "Xtest_ytest = test_dataset.to_numpy()\n",
    "Xtest = Xtest_ytest [:,0:2]\n",
    "ytest = Xtest_ytest [:,2]"
   ]
  },
  {
   "cell_type": "code",
   "execution_count": 110,
   "metadata": {},
   "outputs": [
    {
     "data": {
      "image/png": "[encoded data removed]",
      "text/plain": [
       "<Figure size 432x288 with 1 Axes>"
      ]
     },
     "metadata": {
      "needs_background": "light"
     },
     "output_type": "display_data"
    }
   ],
   "source": [
    "#plot the ROC-AUC\n",
    "from sklearn.metrics import average_precision_score, precision_recall_curve\n",
    "from sklearn.metrics import auc, plot_precision_recall_curve\n",
    "import matplotlib.pyplot as plt\n",
    "y_pred_test = model3.predict_proba(Xtest)\n",
    "from sklearn.metrics import roc_curve,roc_auc_score\n",
    "fpr,tpr,thresholds1 = roc_curve ( ytest , y_pred_test)\n",
    "roc_auc = auc(fpr,tpr)\n",
    "import matplotlib.pyplot as plt\n",
    "\n",
    "plt.plot(fpr,tpr) \n",
    "plt.plot([0,1], [0,1], color = 'black', lw=lw, linestyle = '--')\n",
    "plt.axis([0,1,0,1]) \n",
    "\n",
    "plt.xlabel('False Positive Rate') \n",
    "plt.ylabel('True Positive Rate')\n",
    "plt.legend (['ROC-AUC:{:.2f}'.format (roc_auc)])\n",
    "plt.show()    "
   ]
  },
  {
   "cell_type": "code",
   "execution_count": 97,
   "metadata": {},
   "outputs": [
    {
     "data": {
      "image/png": "[encoded data removed]",
      "text/plain": [
       "<Figure size 432x288 with 1 Axes>"
      ]
     },
     "metadata": {
      "needs_background": "light"
     },
     "output_type": "display_data"
    }
   ],
   "source": [
    "#plot the prc-auc\n",
    "precision, recall, thresholds2 = precision_recall_curve(ytest, y_pred_test)\n",
    "auc_precision_recall = auc(recall, precision)\n",
    "plt.plot(recall, precision)\n",
    "plt.xlabel('Recall') \n",
    "plt.ylabel('Precision')\n",
    "plt.legend (['PRC-AUC:{:.2f}'.format (auc_precision_recall)])\n",
    "plt.show()"
   ]
  },
  {
   "cell_type": "code",
   "execution_count": 42,
   "metadata": {},
   "outputs": [
    {
     "data": {
      "text/plain": [
       "array([0.01773217, 0.0177675 , 0.01778002, ..., 0.98714554, 0.9871481 ,\n",
       "       0.98715276], dtype=float32)"
      ]
     },
     "execution_count": 42,
     "metadata": {},
     "output_type": "execute_result"
    }
   ],
   "source": [
    "thresholds2"
   ]
  },
  {
   "cell_type": "code",
   "execution_count": 43,
   "metadata": {},
   "outputs": [
    {
     "data": {
      "text/plain": [
       "array([0.485639  , 0.48550343, 0.48563143, ..., 0.99637243, 0.99636804,\n",
       "       1.        ])"
      ]
     },
     "execution_count": 43,
     "metadata": {},
     "output_type": "execute_result"
    }
   ],
   "source": [
    "precision"
   ]
  },
  {
   "cell_type": "code",
   "execution_count": 118,
   "metadata": {},
   "outputs": [
    {
     "data": {
      "image/png": "[encoded data removed]",
      "text/plain": [
       "<Figure size 432x288 with 1 Axes>"
      ]
     },
     "metadata": {
      "needs_background": "light"
     },
     "output_type": "display_data"
    }
   ],
   "source": [
    "#plot the true positive rate, false positive rate as a function of threshold\n",
    "import matplotlib.pyplot as plt\n",
    "plt.figure()\n",
    "lw = 2\n",
    "\n",
    "plt.plot(thresholds1, fpr, color = 'darkorange', lw = lw, \n",
    "         label = 'False Positive Rate')\n",
    "\n",
    "plt.plot(thresholds1, tpr, color = 'navy', lw = lw, \n",
    "         label = 'True Positive Rate')\n",
    "\n",
    "plt.plot([0.5,0.5], [0,1], color = 'green', lw=lw, linestyle = '--', label = 'Cut off')\n",
    "\n",
    "plt.xlim([0,1])\n",
    "plt.ylim([0,1.05])\n",
    "\n",
    "plt.xlabel('Threshold')\n",
    "plt.ylabel('True positive rate/ False positive rate')\n",
    "\n",
    "plt.legend(loc = 'lower right')\n",
    "plt.show()"
   ]
  },
  {
   "cell_type": "markdown",
   "metadata": {},
   "source": [
    "# Determine the boundary layer"
   ]
  },
  {
   "cell_type": "code",
   "execution_count": 1,
   "metadata": {},
   "outputs": [],
   "source": [
    "from tensorflow import keras\n",
    "model = keras.models.load_model('/home/karthiksankar2/Documents/Evolution_CASP/Neural_Net_PartialData/Model_3x3')"
   ]
  },
  {
   "cell_type": "code",
   "execution_count": 2,
   "metadata": {},
   "outputs": [
    {
     "data": {
      "image/png": "[encoded data removed]",
      "text/plain": [
       "<Figure size 432x288 with 2 Axes>"
      ]
     },
     "metadata": {
      "needs_background": "light"
     },
     "output_type": "display_data"
    }
   ],
   "source": [
    "#create a 2x2 grid\n",
    "import numpy as np\n",
    "a = np.linspace ( 0,1,num = 110)\n",
    "b = np.linspace (0,1,num = 110)\n",
    "array_ = []\n",
    "for ele1 in a:\n",
    "    for ele2 in b:\n",
    "        array_.append ([ele1,ele2])\n",
    "array_ = np.array(array_)\n",
    "\n",
    "#predict using the model\n",
    "y = model.predict_proba (array_)\n",
    "\n",
    "#make the plot\n",
    "X, Y = np.meshgrid(a, b)\n",
    "z = y.reshape (110,110)\n",
    "\n",
    "import matplotlib.pyplot as plt\n",
    "plt.pcolor(X, Y, z, cmap='Greys')\n",
    "cbar = plt.colorbar()\n",
    "cbar.set_label ('Evolution Score')\n",
    "plt.xlabel ('Overall Molecular Similarity')\n",
    "plt.ylabel ('Reaction Similarity')\n",
    "plt.show()"
   ]
  },
  {
   "cell_type": "code",
   "execution_count": null,
   "metadata": {},
   "outputs": [],
   "source": []
  }
 ],
 "metadata": {
  "kernelspec": {
   "display_name": "Python 3",
   "language": "python",
   "name": "python3"
  },
  "language_info": {
   "codemirror_mode": {
    "name": "ipython",
    "version": 3
   },
   "file_extension": ".py",
   "mimetype": "text/x-python",
   "name": "python",
   "nbconvert_exporter": "python",
   "pygments_lexer": "ipython3",
   "version": "3.7.6"
  }
 },
 "nbformat": 4,
 "nbformat_minor": 4
}
