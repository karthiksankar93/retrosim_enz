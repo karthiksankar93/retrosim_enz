{
 "cells": [
  {
   "cell_type": "markdown",
   "metadata": {},
   "source": [
    "# Abstract\n",
    "The intention of this Jupyter Notebook is to provide an environment to make an evaluation that determines whether a pair of reactions are evolvable. This notebook requires the use of Tensorflow and Keras"
   ]
  },
  {
   "cell_type": "markdown",
   "metadata": {},
   "source": [
    "# Setup the model"
   ]
  },
  {
   "cell_type": "code",
   "execution_count": 1,
   "metadata": {},
   "outputs": [],
   "source": [
    "# load keras\n",
    "from tensorflow import keras\n",
    "\n",
    "# load the model\n",
    "model = keras.models.load_model('Model_3x3')"
   ]
  },
  {
   "cell_type": "markdown",
   "metadata": {},
   "source": [
    "# Setup the feature computation"
   ]
  },
  {
   "cell_type": "code",
   "execution_count": 2,
   "metadata": {},
   "outputs": [
    {
     "name": "stderr",
     "output_type": "stream",
     "text": [
      "RDKit WARNING: [11:46:49] Enabling RDKit 2019.09.3 jupyter extensions\n"
     ]
    }
   ],
   "source": [
    "# load the necessary modules\n",
    "import rdkit.Chem as Chem\n",
    "import rdkit.Chem.AllChem as AllChem\n",
    "from rdkit import DataStructs"
   ]
  },
  {
   "cell_type": "code",
   "execution_count": 5,
   "metadata": {},
   "outputs": [],
   "source": [
    "def uni_pairwise_similarity (rxn_smiles1, rxn_smiles2):\n",
    "    '''Given a pair of reactions, the goal is to return reactant pairwise similarity, product pairwaise similarity\n",
    "and overall pairwise similarity. The algorithm takes as input as pair of reaction smiles. The algorithm\n",
    "will provide as output a list containing reactant similarity, product similarity and overall similarity.\n",
    "    '''    \n",
    "    #get fingerprint\n",
    "    getfp = lambda smi: AllChem.GetMorganFingerprint(Chem.MolFromSmiles(smi),2,useChirality=True, useFeatures=True)\n",
    "    \n",
    "    #get the reactant fingerprints\n",
    "    rxn1_rcts_fp = getfp (rxn_smiles1.split('>')[0])\n",
    "    rxn2_rcts_fp = getfp (rxn_smiles2.split('>')[0])\n",
    "    \n",
    "    #get the product fingerprints\n",
    "    rxn1_prod_fp = getfp (rxn_smiles1.split('>')[2])\n",
    "    rxn2_prod_fp = getfp (rxn_smiles2.split('>')[2])\n",
    "    \n",
    "    #setup similarity metric\n",
    "    similarity_metric = DataStructs.BulkDiceSimilarity\n",
    "    \n",
    "    #compute similarity metric\n",
    "    reactant_similarity = similarity_metric(rxn1_rcts_fp, [rxn2_rcts_fp])[0]\n",
    "    product_similarity = similarity_metric(rxn1_prod_fp,[rxn2_prod_fp])[0]\n",
    "    \n",
    "    #return reactant similarity, product similarity, reactant and product similarity\n",
    "    return ([reactant_similarity,product_similarity,reactant_similarity*product_similarity])"
   ]
  },
  {
   "cell_type": "code",
   "execution_count": 4,
   "metadata": {},
   "outputs": [],
   "source": [
    "def bi_pairwise_similarity (rxn_smiles1, rxn_smiles2):\n",
    "    '''Given a pair of reactions, this algorithm (1) computes similarity scores for the reactions as \n",
    "    written (2) computes similarity scores for one of the reactions flipped (3) Picks the set with \n",
    "    highest overall similarity (4) Returns this set. The algorithm takes a pair of smiles as input.\n",
    "    It will output a list containing reactant similarity, product similarity and overall similarity.'''\n",
    "    \n",
    "    # calculate the pairwise similarity for reactions as written\n",
    "    sim1 = uni_pairwise_similarity (rxn_smiles1, rxn_smiles2)\n",
    "    \n",
    "    # flip reaction 1\n",
    "    rct, rea, prd = rxn_smiles1.split('>')\n",
    "    rxn_smiles1_flipped = prd + '>>' + rct\n",
    "    \n",
    "    #calculate the pairwise similarity for flipped configuration\n",
    "    sim2 = uni_pairwise_similarity (rxn_smiles1_flipped, rxn_smiles2)\n",
    "    \n",
    "    #return the maximum between the two similarity scores\n",
    "    return (max (sim1[2], sim2[2]))"
   ]
  },
  {
   "cell_type": "code",
   "execution_count": 6,
   "metadata": {},
   "outputs": [],
   "source": [
    "def reaction_fingerprint (rxn_smiles):\n",
    "    '''The input to this chunck of code is reaction SMILES. The output is a reaction fingerprint that \n",
    "    is the computed difference between the reactant and product fingerprint'''\n",
    "    \n",
    "    # set up the fingerprint\n",
    "    getfp = lambda smi: AllChem.GetMorganFingerprint(Chem.MolFromSmiles(smi),2,useChirality=True, useFeatures=True)\n",
    "    \n",
    "    # get the reactant fingerprint\n",
    "    rxn_rcts_fp = getfp (rxn_smiles.split('>')[0])\n",
    "    \n",
    "    # get the product fingerprint\n",
    "    rxn_prod_fp = getfp (rxn_smiles.split('>')[2])\n",
    "    \n",
    "    # compute the difference fingeprint\n",
    "    rxn_fp = rxn_rcts_fp - rxn_prod_fp\n",
    "    \n",
    "    #return that fingerprint\n",
    "    return rxn_fp"
   ]
  },
  {
   "cell_type": "code",
   "execution_count": 7,
   "metadata": {},
   "outputs": [],
   "source": [
    "def uni_reaction_similarity_v2 (rxn_smiles1, rxn_smiles2):\n",
    "    '''Calculate difference reaction fingerprints. Compute tanimoto distance. Return Dice distance\n",
    "    '''    \n",
    "    \n",
    "    fp1 = reaction_fingerprint (rxn_smiles1)\n",
    "    fp2 = reaction_fingerprint (rxn_smiles2)\n",
    "    \n",
    "    sim = DataStructs.DiceSimilarity(fp1,fp2)\n",
    "    \n",
    "    return (sim)"
   ]
  },
  {
   "cell_type": "code",
   "execution_count": 8,
   "metadata": {},
   "outputs": [],
   "source": [
    "def do_one (precedent_reaction_temp, proposed_reaction_temp):\n",
    "    try:\n",
    "        #compute reaction similarity\n",
    "        reaction_similarity = uni_reaction_similarity_v2 (precedent_reaction_temp, proposed_reaction_temp)\n",
    "        \n",
    "        #compute structural similarity\n",
    "        structure_similarity = bi_pairwise_similarity (precedent_reaction_temp, proposed_reaction_temp)\n",
    "        \n",
    "        #return both values\n",
    "        return_statement = (structure_similarity, reaction_similarity)\n",
    "    \n",
    "    # if computation fails, return None\n",
    "    except:\n",
    "        return_statement = None\n",
    "    \n",
    "    #return the return statement\n",
    "    return return_statement"
   ]
  },
  {
   "cell_type": "markdown",
   "metadata": {},
   "source": [
    "# Examples"
   ]
  },
  {
   "cell_type": "markdown",
   "metadata": {},
   "source": [
    "## 3-Hydroxycycloketone"
   ]
  },
  {
   "cell_type": "code",
   "execution_count": 36,
   "metadata": {},
   "outputs": [
    {
     "name": "stdout",
     "output_type": "stream",
     "text": [
      "The likelihood the reaction pair is evolvable is: 0.9899477362632751\n"
     ]
    },
    {
     "name": "stderr",
     "output_type": "stream",
     "text": [
      "RDKit WARNING: [14:57:51] WARNING: not removing hydrogen atom without neighbors\n",
      "RDKit WARNING: [14:57:51] WARNING: not removing hydrogen atom without neighbors\n",
      "RDKit WARNING: [14:57:51] WARNING: not removing hydrogen atom without neighbors\n",
      "RDKit WARNING: [14:57:51] WARNING: not removing hydrogen atom without neighbors\n",
      "RDKit WARNING: [14:57:51] WARNING: not removing hydrogen atom without neighbors\n",
      "RDKit WARNING: [14:57:51] WARNING: not removing hydrogen atom without neighbors\n"
     ]
    }
   ],
   "source": [
    "#insert precedent and proposed reaction\n",
    "precedent_reaction = 'NC(=O)C1=CN([C@@H]2O[C@H](COP(=O)([O-])OP(=O)([O-])OC[C@H]3O[C@@H](N4C=NC5=C4N=CN=C5N)[C@H](OP(=O)([O-])[O-])[C@@H]3O)[C@@H](O)[C@H]2O)C=CC1.[H+].[H][C@]12CC[C@]3(C)C(=O)CC[C@@]3([H])[C@]1([H])CCC1=C2C=CC(O)=C1>>NC(=O)C1=CC=C[N+]([C@@H]2O[C@H](COP(=O)([O-])OP(=O)([O-])OC[C@H]3O[C@@H](N4C=NC5=C4N=CN=C5N)[C@H](OP(=O)([O-])[O-])[C@@H]3O)[C@@H](O)[C@H]2O)=C1.[H][C@]12CC[C@]3(C)[C@@H](O)CC[C@@]3([H])[C@]1([H])CCC1=CC(O)=CC=C12'\n",
    "proposed_reaction = 'NC(=O)C1=CN([C@@H]2O[C@H](COP(=O)([O-])OP(=O)([O-])OC[C@H]3O[C@@H](N4C=NC5=C4N=CN=C5N)[C@H](OP(=O)([O-])[O-])[C@@H]3O)[C@@H](O)[C@H]2O)C=CC1.[H+].CCC1(C/C=C2\\CCCc3cc(OC)ccc32)C(=O)CCC1=O>>NC(=O)C1=CC=C[N+]([C@@H]2O[C@H](COP(=O)([O-])OP(=O)([O-])OC[C@H]3O[C@@H](N4C=NC5=C4N=CN=C5N)[C@H](OP(=O)([O-])[O-])[C@@H]3O)[C@@H](O)[C@H]2O)=C1.O[C@H]1CCC([C@@]1(C/C=C2C3=CC=C(OC)C=C3CCC/2)CC)=O'\n",
    "\n",
    "#compute the similarity scores\n",
    "sims = do_one (precedent_reaction, proposed_reaction)\n",
    "\n",
    "# load the values into X\n",
    "X = np.array([[sims[0], sims[1]]])\n",
    "\n",
    "# make the prediction\n",
    "y = model.predict_proba (X)\n",
    "\n",
    "#print y\n",
    "print ('The likelihood the reaction pair is evolvable is: {}'.format (y[0][0]))"
   ]
  },
  {
   "cell_type": "markdown",
   "metadata": {},
   "source": [
    "## alpha-isophorone"
   ]
  },
  {
   "cell_type": "code",
   "execution_count": 37,
   "metadata": {},
   "outputs": [
    {
     "name": "stdout",
     "output_type": "stream",
     "text": [
      "The likelihood the reaction pair is evolvable is: 0.9087029099464417\n"
     ]
    },
    {
     "name": "stderr",
     "output_type": "stream",
     "text": [
      "RDKit WARNING: [16:20:53] WARNING: not removing hydrogen atom without neighbors\n",
      "RDKit WARNING: [16:20:53] WARNING: not removing hydrogen atom without neighbors\n",
      "RDKit WARNING: [16:20:53] WARNING: not removing hydrogen atom without neighbors\n",
      "RDKit WARNING: [16:20:53] WARNING: not removing hydrogen atom without neighbors\n",
      "RDKit WARNING: [16:20:53] WARNING: not removing hydrogen atom without neighbors\n",
      "RDKit WARNING: [16:20:53] WARNING: not removing hydrogen atom without neighbors\n",
      "RDKit WARNING: [16:20:53] WARNING: not removing hydrogen atom without neighbors\n",
      "RDKit WARNING: [16:20:53] WARNING: not removing hydrogen atom without neighbors\n",
      "RDKit WARNING: [16:20:53] WARNING: not removing hydrogen atom without neighbors\n",
      "RDKit WARNING: [16:20:53] WARNING: not removing hydrogen atom without neighbors\n",
      "RDKit WARNING: [16:20:53] WARNING: not removing hydrogen atom without neighbors\n",
      "RDKit WARNING: [16:20:53] WARNING: not removing hydrogen atom without neighbors\n"
     ]
    }
   ],
   "source": [
    "#insert precedent and proposed reaction\n",
    "precedent_reaction = 'CC1(C)[C@@H]2CC[C@@]1(C)C(=O)C2.O=O.S1[Fe]S[Fe+]1.S1[Fe]S[Fe+]1.[H+].[H+]>>S1[Fe+]S[Fe+]1.S1[Fe+]S[Fe+]1.[H]O[H].[H][C@]12CC(=O)[C@](C)(C[C@H]1O)C2(C)C'\n",
    "proposed_reaction = 'CC1=CC(=O)CC(C)(C)C1.O=O.S1[Fe]S[Fe+]1.S1[Fe]S[Fe+]1.[H+].[H+]>>S1[Fe+]S[Fe+]1.S1[Fe+]S[Fe+]1.[H]O[H].CC([C@H](O)C(C)(C)C1)=CC1=O'\n",
    "\n",
    "#compute the similarity scores\n",
    "sims = do_one (precedent_reaction, proposed_reaction)\n",
    "\n",
    "# load the values into X\n",
    "X = np.array([[sims[0], sims[1]]])\n",
    "\n",
    "# make the prediction\n",
    "y = model.predict_proba (X)\n",
    "\n",
    "#print y\n",
    "print ('The likelihood the reaction pair is evolvable is: {}'.format (y[0][0]))"
   ]
  },
  {
   "cell_type": "markdown",
   "metadata": {},
   "source": [
    "## Polyol Dehydrogenase"
   ]
  },
  {
   "cell_type": "code",
   "execution_count": 38,
   "metadata": {},
   "outputs": [
    {
     "name": "stdout",
     "output_type": "stream",
     "text": [
      "The likelihood the reaction pair is evolvable is: 0.9961159229278564\n"
     ]
    },
    {
     "name": "stderr",
     "output_type": "stream",
     "text": [
      "RDKit WARNING: [16:24:35] WARNING: not removing hydrogen atom without neighbors\n",
      "RDKit WARNING: [16:24:35] WARNING: not removing hydrogen atom without neighbors\n",
      "RDKit WARNING: [16:24:35] WARNING: not removing hydrogen atom without neighbors\n",
      "RDKit WARNING: [16:24:35] WARNING: not removing hydrogen atom without neighbors\n",
      "RDKit WARNING: [16:24:35] WARNING: not removing hydrogen atom without neighbors\n",
      "RDKit WARNING: [16:24:35] WARNING: not removing hydrogen atom without neighbors\n"
     ]
    }
   ],
   "source": [
    "#insert precedent and proposed reaction\n",
    "precedent_reaction = 'NC(=O)C1=CC=C[N+]([C@@H]2O[C@H](COP(=O)([O-])OP(=O)([O-])OC[C@H]3O[C@@H](N4C=NC5=C4N=CN=C5N)[C@H](O)[C@@H]3O)[C@@H](O)[C@H]2O)=C1.OC[C@H](O)[C@@H](O)[C@H](O)CO>>NC(=O)C1=CN([C@@H]2O[C@H](COP(=O)([O-])OP(=O)([O-])OC[C@H]3O[C@@H](N4C=NC5=C4N=CN=C5N)[C@H](O)[C@@H]3O)[C@@H](O)[C@H]2O)C=CC1.O=C(CO)[C@@H](O)[C@H](O)CO.[H+]'\n",
    "proposed_reaction = 'NC(=O)C1=CC=C[N+]([C@@H]2O[C@H](COP(=O)([O-])OP(=O)([O-])OC[C@H]3O[C@@H](N4C=NC5=C4N=CN=C5N)[C@H](O)[C@@H]3O)[C@@H](O)[C@H]2O)=C1.OC[C@H](O)[C@@H](O)[C@@H](O)[C@H](O)CO>>NC(=O)C1=CN([C@@H]2O[C@H](COP(=O)([O-])OP(=O)([O-])OC[C@H]3O[C@@H](N4C=NC5=C4N=CN=C5N)[C@H](O)[C@@H]3O)[C@@H](O)[C@H]2O)C=CC1.OC[C@@H](O)[C@H](O)[C@H](O)C(CO)=O.[H+]'\n",
    "\n",
    "#compute the similarity scores\n",
    "sims = do_one (precedent_reaction, proposed_reaction)\n",
    "\n",
    "# load the values into X\n",
    "X = np.array([[sims[0], sims[1]]])\n",
    "\n",
    "# make the prediction\n",
    "y = model.predict_proba (X)\n",
    "\n",
    "#print y\n",
    "print ('The likelihood the reaction pair is evolvable is: {}'.format (y[0][0]))"
   ]
  },
  {
   "cell_type": "markdown",
   "metadata": {},
   "source": [
    "# Hydrostyrene derivatives"
   ]
  },
  {
   "cell_type": "code",
   "execution_count": null,
   "metadata": {},
   "outputs": [],
   "source": []
  }
 ],
 "metadata": {
  "kernelspec": {
   "display_name": "Python 3",
   "language": "python",
   "name": "python3"
  },
  "language_info": {
   "codemirror_mode": {
    "name": "ipython",
    "version": 3
   },
   "file_extension": ".py",
   "mimetype": "text/x-python",
   "name": "python",
   "nbconvert_exporter": "python",
   "pygments_lexer": "ipython3",
   "version": "3.7.6"
  }
 },
 "nbformat": 4,
 "nbformat_minor": 4
}
