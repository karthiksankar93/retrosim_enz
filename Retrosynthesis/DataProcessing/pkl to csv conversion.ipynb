{
 "cells": [
  {
   "cell_type": "code",
   "execution_count": 15,
   "metadata": {},
   "outputs": [],
   "source": [
    "import pandas as pd\n",
    "data = pd.read_pickle ('RHEA_atom_mapped_timepoint_5.pkl')"
   ]
  },
  {
   "cell_type": "code",
   "execution_count": 16,
   "metadata": {},
   "outputs": [
    {
     "data": {
      "text/html": [
       "<div>\n",
       "<style scoped>\n",
       "    .dataframe tbody tr th:only-of-type {\n",
       "        vertical-align: middle;\n",
       "    }\n",
       "\n",
       "    .dataframe tbody tr th {\n",
       "        vertical-align: top;\n",
       "    }\n",
       "\n",
       "    .dataframe thead th {\n",
       "        text-align: right;\n",
       "    }\n",
       "</style>\n",
       "<table border=\"1\" class=\"dataframe\">\n",
       "  <thead>\n",
       "    <tr style=\"text-align: right;\">\n",
       "      <th></th>\n",
       "      <th>Atom Mapped Reaction Input</th>\n",
       "      <th>Not Atom Mapped Input</th>\n",
       "      <th>prod_smiles</th>\n",
       "      <th>id</th>\n",
       "      <th>rxn_smiles</th>\n",
       "    </tr>\n",
       "  </thead>\n",
       "  <tbody>\n",
       "    <tr>\n",
       "      <th>1</th>\n",
       "      <td>[[O:11]=[c:12]1[cH:13][cH:14][n:15]([C@@H:16]2...</td>\n",
       "      <td>O=C1C=CN([C@@H]2O[C@H](COP(=O)([O-])OP(=O)([O-...</td>\n",
       "      <td>O=P([O-])([O-])OC[C@H](O)CO[C@H]1O[C@H](CO)[C@...</td>\n",
       "      <td>20342</td>\n",
       "      <td>[O=c1ccn([C@@H]2O[C@H](COP(=O)([O-])OP(=O)([O-...</td>\n",
       "    </tr>\n",
       "  </tbody>\n",
       "</table>\n",
       "</div>"
      ],
      "text/plain": [
       "                          Atom Mapped Reaction Input  \\\n",
       "1  [[O:11]=[c:12]1[cH:13][cH:14][n:15]([C@@H:16]2...   \n",
       "\n",
       "                               Not Atom Mapped Input  \\\n",
       "1  O=C1C=CN([C@@H]2O[C@H](COP(=O)([O-])OP(=O)([O-...   \n",
       "\n",
       "                                         prod_smiles     id  \\\n",
       "1  O=P([O-])([O-])OC[C@H](O)CO[C@H]1O[C@H](CO)[C@...  20342   \n",
       "\n",
       "                                          rxn_smiles  \n",
       "1  [O=c1ccn([C@@H]2O[C@H](COP(=O)([O-])OP(=O)([O-...  "
      ]
     },
     "execution_count": 16,
     "metadata": {},
     "output_type": "execute_result"
    }
   ],
   "source": [
    "data.head(1)"
   ]
  },
  {
   "cell_type": "code",
   "execution_count": 21,
   "metadata": {},
   "outputs": [
    {
     "data": {
      "text/plain": [
       "list"
      ]
     },
     "execution_count": 21,
     "metadata": {},
     "output_type": "execute_result"
    }
   ],
   "source": [
    "type (data['rxn_smiles'].tolist()[0])"
   ]
  },
  {
   "cell_type": "code",
   "execution_count": 22,
   "metadata": {},
   "outputs": [],
   "source": [
    "data.to_csv('RHEA_atom_mapped_timepoint_5.csv')"
   ]
  },
  {
   "cell_type": "code",
   "execution_count": null,
   "metadata": {},
   "outputs": [],
   "source": []
  }
 ],
 "metadata": {
  "kernelspec": {
   "display_name": "Python 3",
   "language": "python",
   "name": "python3"
  },
  "language_info": {
   "codemirror_mode": {
    "name": "ipython",
    "version": 3
   },
   "file_extension": ".py",
   "mimetype": "text/x-python",
   "name": "python",
   "nbconvert_exporter": "python",
   "pygments_lexer": "ipython3",
   "version": "3.7.6"
  }
 },
 "nbformat": 4,
 "nbformat_minor": 4
}
